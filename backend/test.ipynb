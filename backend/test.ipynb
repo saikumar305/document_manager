{
 "cells": [
  {
   "cell_type": "code",
   "execution_count": 2,
   "metadata": {},
   "outputs": [],
   "source": [
    "import ollama"
   ]
  },
  {
   "cell_type": "code",
   "execution_count": 3,
   "metadata": {},
   "outputs": [
    {
     "name": "stdout",
     "output_type": "stream",
     "text": [
      "It seems like you're trying to start a conversation or share something. However, I don't see what \"another\" refers to or what context it's in. Could you provide more information about what you'd like to talk about? That way, I can give you a relevant response.\n"
     ]
    }
   ],
   "source": [
    "import ollama\n",
    "\n",
    "\n",
    "# Define async function\n",
    "async def chat_with_ollama():\n",
    "    response = await ollama.AsyncClient().chat(\n",
    "        model= \"llama3.1\",\n",
    "        messages=[{\"role\": \"user\", \"content\": \"another\"}],\n",
    "    )\n",
    "    print(response[\"message\"][\"content\"])\n",
    "\n",
    "\n",
    "# Call the async function directly with await\n",
    "await chat_with_ollama()"
   ]
  },
  {
   "cell_type": "code",
   "execution_count": 4,
   "metadata": {},
   "outputs": [],
   "source": [
    "!pip install -q deepdiff"
   ]
  },
  {
   "cell_type": "code",
   "execution_count": 5,
   "metadata": {},
   "outputs": [
    {
     "name": "stdout",
     "output_type": "stream",
     "text": [
      "Differences found:\n",
      "{\n",
      "  \"values_changed\": {\n",
      "    \"root['b']['c']\": {\n",
      "      \"new_value\": 3,\n",
      "      \"old_value\": 2\n",
      "    }\n",
      "  }\n",
      "}\n"
     ]
    }
   ],
   "source": [
    "import json\n",
    "from deepdiff import DeepDiff\n",
    "\n",
    "# Load both JSON files\n",
    "json1 = {\"a\": 1, \"b\": {\"c\": 2}}\n",
    "json2 = {\"a\": 1, \"b\": {\"c\": 3}}\n",
    "\n",
    "# Compare the JSON objects\n",
    "diff = DeepDiff(json1, json2, ignore_order=True)\n",
    "\n",
    "# Print results\n",
    "if diff:\n",
    "    print(\"Differences found:\")\n",
    "    print(json.dumps(diff, indent=2))\n",
    "else:\n",
    "    print(\"The files are identical.\")"
   ]
  },
  {
   "cell_type": "code",
   "execution_count": null,
   "metadata": {},
   "outputs": [],
   "source": []
  }
 ],
 "metadata": {
  "kernelspec": {
   "display_name": "Python 3",
   "language": "python",
   "name": "python3"
  },
  "language_info": {
   "codemirror_mode": {
    "name": "ipython",
    "version": 3
   },
   "file_extension": ".py",
   "mimetype": "text/x-python",
   "name": "python",
   "nbconvert_exporter": "python",
   "pygments_lexer": "ipython3",
   "version": "3.11.11"
  }
 },
 "nbformat": 4,
 "nbformat_minor": 2
}
